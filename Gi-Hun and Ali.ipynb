{
 "cells": [
  {
   "cell_type": "code",
   "execution_count": 3,
   "id": "6f0aa0e3",
   "metadata": {},
   "outputs": [
    {
     "name": "stdout",
     "output_type": "stream",
     "text": [
      "3\n",
      "4 10\n",
      "2 13 4 16\n",
      "2\n",
      "5 8\n",
      "9 3 8 8 4\n",
      "1\n",
      "4 6\n",
      "1 2 3 4\n",
      "0\n"
     ]
    }
   ],
   "source": [
    "# Question 2: To get the minimum number of players who need to get shotnso that Ali is visible in Gi_hun's line of sight.\n",
    "\n",
    "for i in range(int(input())):\n",
    "    # n is the number of peoplr b/w both\n",
    "    # k is the height of both\n",
    "    n,k=map(int,input().split())\n",
    "    m=list(map(int,input().split()))\n",
    "    count=0\n",
    "    for i in m:\n",
    "        if k<i:\n",
    "            count+=1\n",
    "    print(count)"
   ]
  },
  {
   "cell_type": "code",
   "execution_count": null,
   "id": "b3ca308f",
   "metadata": {},
   "outputs": [],
   "source": []
  }
 ],
 "metadata": {
  "kernelspec": {
   "display_name": "Python 3 (ipykernel)",
   "language": "python",
   "name": "python3"
  },
  "language_info": {
   "codemirror_mode": {
    "name": "ipython",
    "version": 3
   },
   "file_extension": ".py",
   "mimetype": "text/x-python",
   "name": "python",
   "nbconvert_exporter": "python",
   "pygments_lexer": "ipython3",
   "version": "3.9.7"
  }
 },
 "nbformat": 4,
 "nbformat_minor": 5
}
