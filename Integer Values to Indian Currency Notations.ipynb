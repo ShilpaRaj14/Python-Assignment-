{
 "cells": [
  {
   "cell_type": "code",
   "execution_count": 1,
   "id": "89b4f8a4",
   "metadata": {},
   "outputs": [
    {
     "name": "stdout",
     "output_type": "stream",
     "text": [
      "5,04,678\n",
      "87,65,432\n",
      "12,34,56,789\n"
     ]
    }
   ],
   "source": [
    "# Question 1: Python code for converting integer values to Indian currency notations\n",
    "\n",
    "def formatted_int(value):\n",
    "    # if the value is 100, 10, 1\n",
    "    if len(str(value)) <= 3:\n",
    "        return value\n",
    "\n",
    "    # if the value is 10,000, 1,000\n",
    "    elif  3 < len(str(value)) <= 5:\n",
    "        return f'{str(value)[:-3]},{str(value)[-3:]}'\n",
    "\n",
    "    # if the value is greater the 10,000    \n",
    "    else:\n",
    "        cut = str(value)[:-3]  \n",
    "        o = []\n",
    "        while cut:\n",
    "            o.append(cut[-2:]) # appending from 1000th value(right to left)\n",
    "            cut = cut[:-2]\n",
    "            \n",
    "        # reversing list\n",
    "        o = o[::-1] \n",
    "        res = \",\".join(o) \n",
    "        \n",
    "        return f'{res},{str(value)[-3:]}'\n",
    "\n",
    "value1 = 504678\n",
    "value2 = 8765432          \n",
    "value3 = 123456789\n",
    "\n",
    "print(formatted_int(value1))\n",
    "print(formatted_int(value2))\n",
    "print(formatted_int(value3))"
   ]
  },
  {
   "cell_type": "code",
   "execution_count": null,
   "id": "b9dc76ed",
   "metadata": {},
   "outputs": [],
   "source": []
  }
 ],
 "metadata": {
  "kernelspec": {
   "display_name": "Python 3 (ipykernel)",
   "language": "python",
   "name": "python3"
  },
  "language_info": {
   "codemirror_mode": {
    "name": "ipython",
    "version": 3
   },
   "file_extension": ".py",
   "mimetype": "text/x-python",
   "name": "python",
   "nbconvert_exporter": "python",
   "pygments_lexer": "ipython3",
   "version": "3.9.7"
  }
 },
 "nbformat": 4,
 "nbformat_minor": 5
}
