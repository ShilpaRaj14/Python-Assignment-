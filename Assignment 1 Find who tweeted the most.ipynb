{
 "cells": [
  {
   "cell_type": "code",
   "execution_count": 1,
   "id": "57c258ec",
   "metadata": {},
   "outputs": [
    {
     "name": "stdout",
     "output_type": "stream",
     "text": [
      "2\n",
      "4\n",
      "sachin tweet_id_1\n",
      "sehwag tweet_id_2\n",
      "sachin tweet_id_3\n",
      "sehwag tweet_id_4\n",
      "5\n",
      "dhoni tweet_id_10\n",
      "dhoni tweet_id_11\n",
      "kohli tweet_id_12\n",
      "dhoni tweet_id_13\n",
      "dhoni tweet_id_14\n",
      "\n",
      "sachin 2\n",
      "sehwag 2\n",
      "dhoni 4\n"
     ]
    }
   ],
   "source": [
    "import operator\n",
    "\n",
    "class Twitter:\n",
    "    \n",
    "    def __init__(self):\n",
    "        self.user_tweets_count: list[dict] = [] #initialising list that store user tweet count\n",
    "        self.tweet_users_map: list[dict] = [] #initialising list that store user tweet map\n",
    "        \n",
    "    def tweets(self):\n",
    "        tweets_count = int(input(\"\"))\n",
    "        tweet_user_map: dict[str, str] = {}\n",
    "        user_tweet_count: dict[str, str] = {}\n",
    "        while (tweets_count > 0):\n",
    "            try:\n",
    "                tweet=(input(\"\"))\n",
    "                user,id=tweet.split(\" \")\n",
    "                if tweet_user_map.get(id,'')=='': #check tweet already id exist or not\n",
    "                    tweet_user_map[id]=user  #mapping tweet to corresponding user\n",
    "                    user_tweet_count[user]=user_tweet_count.setdefault(user,0)+1  #increasing user tweet count\n",
    "                tweets_count=tweets_count-1\n",
    "            except Exception:\n",
    "                print('Invalid Input. Try again')\n",
    "\n",
    "        self.user_tweets_count.append(user_tweet_count)  #adding current user for the particular iteration \n",
    "        self.tweet_users_map.append(tweet_user_map)  #adding tweet user mapping particular iteration\n",
    "    \n",
    "    def evalTweets(self):\n",
    "        for item in self.user_tweets_count:\n",
    "            sort = {key: val for key, val in sorted(item.items(), key = lambda ele: ele[1],reverse = True)}  #Sorting user_tweets_count current iteration data based on value\n",
    "            maxVal=list(sort.values())[0] #Storing the max value\n",
    "            ret_val: dict[str, str] = {}\n",
    "            for key,val in sort.items(): #Loop to filter tweets\n",
    "                if maxVal==val: #Finding tweets that match max value\n",
    "                   ret_val[key]=val\n",
    "            sorted_ret_val={key: val for key, val in sorted(ret_val.items(), key = lambda ele: ele[0])}  #Sorting max value tweets based on name\n",
    "            for key,val in sorted_ret_val.items():\n",
    "                print(key,val) #output in each seperate line\n",
    "    \n",
    "    def main(self):\n",
    "        intial_count = int(input(''))\n",
    "        while (intial_count > 0):\n",
    "            try:\n",
    "                self.tweets()\n",
    "                intial_count=intial_count-1\n",
    "            except Exception:\n",
    "                print('Invalid Input. Try again')\n",
    "        print()\n",
    "        self.evalTweets()\n",
    "\n",
    "    \n",
    "twitter=Twitter()\n",
    "twitter.main()"
   ]
  },
  {
   "cell_type": "code",
   "execution_count": null,
   "id": "7f4aa4d8",
   "metadata": {},
   "outputs": [],
   "source": []
  }
 ],
 "metadata": {
  "kernelspec": {
   "display_name": "Python 3 (ipykernel)",
   "language": "python",
   "name": "python3"
  },
  "language_info": {
   "codemirror_mode": {
    "name": "ipython",
    "version": 3
   },
   "file_extension": ".py",
   "mimetype": "text/x-python",
   "name": "python",
   "nbconvert_exporter": "python",
   "pygments_lexer": "ipython3",
   "version": "3.9.7"
  }
 },
 "nbformat": 4,
 "nbformat_minor": 5
}
